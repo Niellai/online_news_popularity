{
 "cells": [
  {
   "cell_type": "code",
   "execution_count": 34,
   "metadata": {},
   "outputs": [],
   "source": [
    "import math\n",
    "import pandas as pd\n",
    "import matplotlib.pyplot as plt\n",
    "import matplotlib\n",
    "import numpy as np\n",
    "import csv\n",
    "\n",
    "from sklearn.model_selection import train_test_split\n",
    "from sklearn import preprocessing\n",
    "from sklearn.decomposition import PCA\n",
    "# matplotlib.style.use('ggplot')\n",
    "plt.style.use('ggplot')"
   ]
  },
  {
   "cell_type": "markdown",
   "metadata": {},
   "source": [
    "### Principal Component Analysis (PCA)\n",
    "Principal component analysis is a fast and flexible unsupervised alogrithm for dimensionality reduction. We will be using PCA to extract OnlineNewsPopularity dataset. As this dataset have high dimensionality, which contains 60 columns and 39644 records. With such high number of dimension we might not be able generalize well.\n",
    "\n",
    "We need to take note that PCA only works well with normalize dataset. The PCA calculates a new projection of your data set. And the new axis are based on the standard deviation of your variables. So a variable with a high standard deviation will have a higher weight for the calculation of axis than a variable with a low standard deviation.\n",
    "\n",
    "We are not targeting last element, shares.<br>\n",
    "Target is element 45, global_sentiment_polarity:     Text sentiment polarity"
   ]
  },
  {
   "cell_type": "code",
   "execution_count": 72,
   "metadata": {},
   "outputs": [],
   "source": [
    "# loading of dataset \n",
    "dataset = []\n",
    "labels = []\n",
    "headers = []\n",
    "\n",
    "def load_dataset(is_normalize=True, is_remove_outlier=True, select_top=50):\n",
    "    \"\"\"\n",
    "    is_normalize: To normalize or keep orignal form\n",
    "    is_remove_outlier: To remove outlier \n",
    "    select_top: select top important features using PCA (Principal component analysis)\n",
    "    \"\"\"\n",
    "    global dataset, labels, headers\n",
    "    with open('OnlineNewsPopularity.csv', newline='') as csvfile:\n",
    "        reader = csv.reader(csvfile, delimiter=',', quotechar='|')\n",
    "        headers = next(reader) # the first row\n",
    "        headers = headers[1:45] + headers[46:]\n",
    "        headers = [x.strip(' ') for x in headers]\n",
    "        \n",
    "        temp_data = []\n",
    "        temp_label = []\n",
    "        \n",
    "        # Target element 45 global_sentiment_polarity\n",
    "        for idx, row in enumerate(reader):            \n",
    "            slice_row = row[1:45] + row[46:]\n",
    "            temp_data.append(slice_row)\n",
    "            temp_label.append(row[45])\n",
    "        \n",
    "        # convert elements to float        \n",
    "        for idx, row in enumerate(temp_data):        \n",
    "            dataset.append([float(i) for i in row[:]])\n",
    "        for idx, row in enumerate(temp_label):\n",
    "            labels.append(float(row))                \n",
    "    \n",
    "        if is_normalize:\n",
    "            # it is important which type of normalization method you use\n",
    "            scaler = preprocessing.MinMaxScaler()\n",
    "            dataset = scaler.fit_transform(dataset)\n",
    "            # last item uses MinMaxScaler\n",
    "            labels = np.array(labels).reshape(-1, 1)\n",
    "            scaler = preprocessing.MinMaxScaler()\n",
    "            labels = scaler.fit_transform(labels)\n",
    "            print('Data is normalize')\n",
    "        else:\n",
    "            print('No normalize apply')        \n",
    "            \n",
    "        if is_remove_outlier:\n",
    "            dataset, labels = reject_outliers(dataset, labels)    \n",
    "            \n",
    "        if 0 < select_top < len(dataset):            \n",
    "            top_features = pca_important_features(dataset, headers, top=select_top)\n",
    "            feature_keys = [f[1] for f in top_features]\n",
    "            df = pd.DataFrame(dataset, columns=headers)\n",
    "            top_dataset = []\n",
    "            for name in feature_keys:\n",
    "                top_dataset.append(df.loc[:, name])\n",
    "            dataset = np.transpose(top_dataset)\n",
    "    return np.array(dataset), np.array(labels).reshape(-1, 1)\n",
    "\n",
    "def pca_important_features(dataset, headers, top=10):\n",
    "    scaleFeatures = True\n",
    "    pca = PCA(n_components=top)\n",
    "    projected  = pca.fit_transform(dataset)\n",
    "    top_features = extract_features(projected, pca.components_, headers, top)\n",
    "    return top_features\n",
    "    \n",
    "def extract_features(transformed_features, components_, columns, top):\n",
    "    num_columns = len(columns)\n",
    "\n",
    "    # This funtion will project your *original* feature (columns)\n",
    "    # onto your principal component feature-space, so that you can\n",
    "    # visualize how \"important\" each one was in the\n",
    "    # multi-dimensional scaling\n",
    "\n",
    "    # Scale the principal components by the max value in\n",
    "    # the transformed set belonging to that component\n",
    "    xvector = components_[0] * max(transformed_features[:,0])\n",
    "    yvector = components_[1] * max(transformed_features[:,1])\n",
    "\n",
    "    # Sort each column by it's length. These are your *original*\n",
    "    # columns, not the principal components.\n",
    "    important_features = { columns[i] : math.sqrt(xvector[i]**2 + yvector[i]**2) for i in range(num_columns) }\n",
    "    important_features = sorted(zip(important_features.values(), important_features.keys()), reverse=True)\n",
    "    print(\"Features by top {0} importance:\".format(top))\n",
    "    for feature in important_features[:top]:\n",
    "        print(feature)\n",
    "    print()\n",
    "    return important_features[:top]\n",
    "        \n",
    "def reject_outliers(dataset, labels, m=40):        \n",
    "    \"\"\"\n",
    "    Higher the value 'm' more outliers\n",
    "    \"\"\"\n",
    "    d = np.abs(labels - np.median(labels))\n",
    "    mdev = np.median(d)\n",
    "    s = d/mdev if mdev else 0.\n",
    "        \n",
    "    # remove outliers in dataset and labels\n",
    "    sub_dataset = []\n",
    "    sub_labels = []\n",
    "    outlier_labels = []\n",
    "    for idx, item in enumerate(s):        \n",
    "        if item < m:\n",
    "            sub_labels.append(labels[idx])\n",
    "            sub_dataset.append(dataset[idx])        \n",
    "        else:\n",
    "            outlier_labels.append(labels[idx])\n",
    "    print('Outlier removed: {0}'.format(len(outlier_labels)))\n",
    "    return sub_dataset, sub_labels"
   ]
  },
  {
   "cell_type": "markdown",
   "metadata": {},
   "source": [
    "Target is element 45, global_sentiment_polarity:     Text sentiment polarity"
   ]
  },
  {
   "cell_type": "code",
   "execution_count": 75,
   "metadata": {
    "scrolled": true
   },
   "outputs": [
    {
     "name": "stdout",
     "output_type": "stream",
     "text": [
      "Data is normalize\n",
      "Outlier removed: 0\n",
      "Dataset shape: (39644, 59), Labels: (39644, 1)\n",
      "\n",
      "['timedelta', 'n_tokens_title', 'n_tokens_content', 'n_unique_tokens', 'n_non_stop_words', 'n_non_stop_unique_tokens', 'num_hrefs', 'num_self_hrefs', 'num_imgs', 'num_videos', 'average_token_length', 'num_keywords', 'data_channel_is_lifestyle', 'data_channel_is_entertainment', 'data_channel_is_bus', 'data_channel_is_socmed', 'data_channel_is_tech', 'data_channel_is_world', 'kw_min_min', 'kw_max_min', 'kw_avg_min', 'kw_min_max', 'kw_max_max', 'kw_avg_max', 'kw_min_avg', 'kw_max_avg', 'kw_avg_avg', 'self_reference_min_shares', 'self_reference_max_shares', 'self_reference_avg_sharess', 'weekday_is_monday', 'weekday_is_tuesday', 'weekday_is_wednesday', 'weekday_is_thursday', 'weekday_is_friday', 'weekday_is_saturday', 'weekday_is_sunday', 'is_weekend', 'LDA_00', 'LDA_01', 'LDA_02', 'LDA_03', 'LDA_04', 'global_subjectivity', 'global_rate_positive_words', 'global_rate_negative_words', 'rate_positive_words', 'rate_negative_words', 'avg_positive_polarity', 'min_positive_polarity', 'max_positive_polarity', 'avg_negative_polarity', 'min_negative_polarity', 'max_negative_polarity', 'title_subjectivity', 'title_sentiment_polarity', 'abs_title_subjectivity', 'abs_title_sentiment_polarity', 'shares']\n"
     ]
    }
   ],
   "source": [
    "# Splitting of dataset into train and test\n",
    "dataset = []\n",
    "labels = []\n",
    "x, y = load_dataset(is_normalize=True, is_remove_outlier=True, select_top=-1)\n",
    "print('Dataset shape: {0}, Labels: {1}'.format(x.shape, y.shape))\n",
    "print()\n",
    "print(headers)"
   ]
  },
  {
   "cell_type": "markdown",
   "metadata": {},
   "source": [
    "### Estimating number of components\n",
    "A vital part of using PCA in practice is the ability to estimate how many components are needed to describe the data. This can be determined by looking at the cumulative explained variance ratio as a function of the number of components:<br>\n",
    "<br>\n",
    "Dataset have to be normalize. <br>\n",
    "From the graph we can see that we need 40 components"
   ]
  },
  {
   "cell_type": "code",
   "execution_count": 78,
   "metadata": {},
   "outputs": [
    {
     "data": {
      "image/png": "[encoded data removed]",
      "text/plain": [
       "<Figure size 1008x432 with 1 Axes>"
      ]
     },
     "metadata": {},
     "output_type": "display_data"
    }
   ],
   "source": [
    "# Estimate number of components needed\n",
    "pca = PCA().fit(x)\n",
    "plt.figure(figsize=(14,6))\n",
    "plt.plot(np.cumsum(pca.explained_variance_ratio_))\n",
    "plt.xlabel('number of components')\n",
    "plt.ylabel('cumulative explained variance');"
   ]
  },
  {
   "cell_type": "code",
   "execution_count": 77,
   "metadata": {},
   "outputs": [
    {
     "name": "stdout",
     "output_type": "stream",
     "text": [
      "Data is normalize\n",
      "Outlier removed: 0\n",
      "Features by top 40 importance:\n",
      "(1.0039281926912536, 'data_channel_is_world')\n",
      "(0.8751808255851463, 'data_channel_is_tech')\n",
      "(0.7164838485443992, 'LDA_02')\n",
      "(0.7024504221910435, 'LDA_04')\n",
      "(0.643485738200486, 'data_channel_is_entertainment')\n",
      "(0.45655163210314703, 'LDA_03')\n",
      "(0.2829290243646777, 'LDA_01')\n",
      "(0.2753936992626821, 'title_subjectivity')\n",
      "(0.27141665959140876, 'abs_title_subjectivity')\n",
      "(0.26160822753207413, 'timedelta')\n",
      "(0.24505377501984496, 'data_channel_is_bus')\n",
      "(0.19651813942736646, 'kw_min_avg')\n",
      "(0.19502718246107198, 'LDA_00')\n",
      "(0.17612026338273556, 'min_negative_polarity')\n",
      "(0.1721170943797148, 'abs_title_sentiment_polarity')\n",
      "(0.16657852967652664, 'rate_positive_words')\n",
      "(0.15599370115509212, 'kw_max_max')\n",
      "(0.1357431818887501, 'kw_avg_max')\n",
      "(0.12354845853099779, 'max_positive_polarity')\n",
      "(0.11758166273091075, 'rate_negative_words')\n",
      "(0.11283502834539562, 'num_keywords')\n",
      "(0.1050853267850151, 'kw_min_min')\n",
      "(0.09904889442894366, 'global_rate_positive_words')\n",
      "(0.07956813406794123, 'data_channel_is_lifestyle')\n",
      "(0.07747534367645746, 'avg_negative_polarity')\n",
      "(0.0700095627821579, 'global_subjectivity')\n",
      "(0.05677093373909828, 'is_weekend')\n",
      "(0.05449137813748092, 'avg_positive_polarity')\n",
      "(0.05304275650847683, 'title_sentiment_polarity')\n",
      "(0.050381410905724726, 'weekday_is_sunday')\n",
      "(0.04903714743919356, 'weekday_is_tuesday')\n",
      "(0.040739209605038185, 'n_tokens_title')\n",
      "(0.03978981955264856, 'weekday_is_friday')\n",
      "(0.03875244910679553, 'weekday_is_wednesday')\n",
      "(0.036735909431941625, 'weekday_is_monday')\n",
      "(0.03506733051366663, 'data_channel_is_socmed')\n",
      "(0.03065050071805752, 'global_rate_negative_words')\n",
      "(0.027288691736257302, 'kw_avg_avg')\n",
      "(0.026085055910887566, 'num_videos')\n",
      "(0.02446224680594823, 'max_negative_polarity')\n",
      "\n",
      "Dataset shape: (39644, 40), Labels: (39644, 1)\n",
      "x_train: (31715, 40), y_train: (31715, 1)\n",
      "x_test: (7929, 40), y_test: (7929, 1)\n"
     ]
    }
   ],
   "source": [
    "# Splitting of dataset into train and test\n",
    "# Dataset if normalize using MinMaxScaler\n",
    "dataset = []\n",
    "labels = []\n",
    "dataset, labels = load_dataset(is_normalize=True, is_remove_outlier=True, select_top=40)\n",
    "print('Dataset shape: {0}, Labels: {1}'.format(dataset.shape, labels.shape))\n",
    "\n",
    "x_train, x_test, y_train, y_test = train_test_split(dataset, labels, test_size=0.2, shuffle=False, random_state=42)\n",
    "print(\"x_train: {0}, y_train: {1}\".format(x_train.shape, y_train.shape))\n",
    "print(\"x_test: {0}, y_test: {1}\".format(x_test.shape, y_test.shape))"
   ]
  }
 ],
 "metadata": {
  "kernelspec": {
   "display_name": "Python 3",
   "language": "python",
   "name": "python3"
  },
  "language_info": {
   "codemirror_mode": {
    "name": "ipython",
    "version": 3
   },
   "file_extension": ".py",
   "mimetype": "text/x-python",
   "name": "python",
   "nbconvert_exporter": "python",
   "pygments_lexer": "ipython3",
   "version": "3.6.5"
  }
 },
 "nbformat": 4,
 "nbformat_minor": 2
}
