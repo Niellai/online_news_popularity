{
 "cells": [
  {
   "cell_type": "code",
   "execution_count": 16,
   "metadata": {},
   "outputs": [],
   "source": [
    "import math\n",
    "import pandas as pd\n",
    "import matplotlib.pyplot as plt\n",
    "import matplotlib\n",
    "import numpy as np\n",
    "\n",
    "from sklearn import preprocessing\n",
    "# matplotlib.style.use('ggplot')\n",
    "plt.style.use('ggplot')"
   ]
  },
  {
   "cell_type": "code",
   "execution_count": 8,
   "metadata": {},
   "outputs": [],
   "source": [
    "def scaleFeaturesDF(df):\n",
    "    # Feature scaling is a type of transformation that only changes the\n",
    "    # scale, but not number of features. Because of this, we can still\n",
    "    # use the original dataset's column names... so long as we keep in\n",
    "    # mind that the _units_ have been altered:\n",
    "\n",
    "    scaled = preprocessing.StandardScaler().fit_transform(df)\n",
    "    scaled = pd.DataFrame(scaled, columns=df.columns)\n",
    "    \n",
    "#     print(\"New Variances:\\n\", scaled.var())\n",
    "#     print(\"New Describe:\\n\", scaled.describe())\n",
    "    return scaled\n",
    "\n",
    "def drawVectors(transformed_features, components_, columns, plt, scaled):\n",
    "    if not scaled:\n",
    "        return plt.axes() # No cheating ;-)\n",
    "\n",
    "    num_columns = len(columns)\n",
    "\n",
    "    # This funtion will project your *original* feature (columns)\n",
    "    # onto your principal component feature-space, so that you can\n",
    "    # visualize how \"important\" each one was in the\n",
    "    # multi-dimensional scaling\n",
    "\n",
    "    # Scale the principal components by the max value in\n",
    "    # the transformed set belonging to that component\n",
    "    xvector = components_[0] * max(transformed_features[:,0])\n",
    "    yvector = components_[1] * max(transformed_features[:,1])\n",
    "\n",
    "    ## visualize projections\n",
    "\n",
    "    # Sort each column by it's length. These are your *original*\n",
    "    # columns, not the principal components.\n",
    "    important_features = { columns[i] : math.sqrt(xvector[i]**2 + yvector[i]**2) for i in range(num_columns) }\n",
    "    important_features = sorted(zip(important_features.values(), important_features.keys()), reverse=True)\n",
    "    print(\"Features by importance:\")\n",
    "    for feature in important_features:\n",
    "        print(feature)\n",
    "        \n",
    "    ax = plt.axes()\n",
    "\n",
    "    for i in range(num_columns):\n",
    "        # Use an arrow to project each original feature as a\n",
    "        # labeled vector on your principal component axes\n",
    "        plt.arrow(0, 0, xvector[i], yvector[i], color='b', width=0.0005, head_width=0.02, alpha=0.75)\n",
    "        plt.text(xvector[i]*1.2, yvector[i]*1.2, list(columns)[i], color='b', alpha=0.75)\n",
    "\n",
    "    return ax"
   ]
  },
  {
   "cell_type": "code",
   "execution_count": 9,
   "metadata": {},
   "outputs": [
    {
     "name": "stdout",
     "output_type": "stream",
     "text": [
      "(39644, 59)\n"
     ]
    }
   ],
   "source": [
    "df = pd.read_csv('OnlineNewsPopularity.csv')\n",
    "df = df.iloc[:, 1:-1]\n",
    "\n",
    "# df = scaleFeaturesDF(df)\n",
    "print(df.shape)"
   ]
  },
  {
   "cell_type": "code",
   "execution_count": 10,
   "metadata": {},
   "outputs": [
    {
     "data": {
      "text/plain": [
       " timedelta                        731.000000\n",
       " n_tokens_title                    12.000000\n",
       " n_tokens_content                 219.000000\n",
       " n_unique_tokens                    0.663594\n",
       " n_non_stop_words                   1.000000\n",
       " n_non_stop_unique_tokens           0.815385\n",
       " num_hrefs                          4.000000\n",
       " num_self_hrefs                     2.000000\n",
       " num_imgs                           1.000000\n",
       " num_videos                         0.000000\n",
       " average_token_length               4.680365\n",
       " num_keywords                       5.000000\n",
       " data_channel_is_lifestyle          0.000000\n",
       " data_channel_is_entertainment      1.000000\n",
       " data_channel_is_bus                0.000000\n",
       " data_channel_is_socmed             0.000000\n",
       " data_channel_is_tech               0.000000\n",
       " data_channel_is_world              0.000000\n",
       " kw_min_min                         0.000000\n",
       " kw_max_min                         0.000000\n",
       " kw_avg_min                         0.000000\n",
       " kw_min_max                         0.000000\n",
       " kw_max_max                         0.000000\n",
       " kw_avg_max                         0.000000\n",
       " kw_min_avg                         0.000000\n",
       " kw_max_avg                         0.000000\n",
       " kw_avg_avg                         0.000000\n",
       " self_reference_min_shares        496.000000\n",
       " self_reference_max_shares        496.000000\n",
       " self_reference_avg_sharess       496.000000\n",
       " weekday_is_monday                  1.000000\n",
       " weekday_is_tuesday                 0.000000\n",
       " weekday_is_wednesday               0.000000\n",
       " weekday_is_thursday                0.000000\n",
       " weekday_is_friday                  0.000000\n",
       " weekday_is_saturday                0.000000\n",
       " weekday_is_sunday                  0.000000\n",
       " is_weekend                         0.000000\n",
       " LDA_00                             0.500331\n",
       " LDA_01                             0.378279\n",
       " LDA_02                             0.040005\n",
       " LDA_03                             0.041263\n",
       " LDA_04                             0.040123\n",
       " global_subjectivity                0.521617\n",
       " global_sentiment_polarity          0.092562\n",
       " global_rate_positive_words         0.045662\n",
       " global_rate_negative_words         0.013699\n",
       " rate_positive_words                0.769231\n",
       " rate_negative_words                0.230769\n",
       " avg_positive_polarity              0.378636\n",
       " min_positive_polarity              0.100000\n",
       " max_positive_polarity              0.700000\n",
       " avg_negative_polarity             -0.350000\n",
       " min_negative_polarity             -0.600000\n",
       " max_negative_polarity             -0.200000\n",
       " title_subjectivity                 0.500000\n",
       " title_sentiment_polarity          -0.187500\n",
       " abs_title_subjectivity             0.000000\n",
       " abs_title_sentiment_polarity       0.187500\n",
       "Name: 0, dtype: float64"
      ]
     },
     "execution_count": 10,
     "metadata": {},
     "output_type": "execute_result"
    }
   ],
   "source": [
    "df.iloc[0, :]"
   ]
  },
  {
   "cell_type": "code",
   "execution_count": 27,
   "metadata": {},
   "outputs": [
    {
     "data": {
      "image/png": "[encoded data removed]",
      "text/plain": [
       "<Figure size 432x288 with 1 Axes>"
      ]
     },
     "metadata": {},
     "output_type": "display_data"
    }
   ],
   "source": [
    "# Estimate number of components needed\n",
    "pca = PCA().fit(df)\n",
    "plt.plot(np.cumsum(pca.explained_variance_ratio_))\n",
    "plt.xlabel('number of components')\n",
    "plt.ylabel('cumulative explained variance');"
   ]
  },
  {
   "cell_type": "code",
   "execution_count": 29,
   "metadata": {},
   "outputs": [
    {
     "name": "stdout",
     "output_type": "stream",
     "text": [
      "[' timedelta' ' n_tokens_title' ' n_tokens_content' ' n_unique_tokens'\n",
      " ' n_non_stop_words' ' n_non_stop_unique_tokens' ' num_hrefs'\n",
      " ' num_self_hrefs' ' num_imgs' ' num_videos' ' average_token_length'\n",
      " ' num_keywords' ' data_channel_is_lifestyle'\n",
      " ' data_channel_is_entertainment' ' data_channel_is_bus'\n",
      " ' data_channel_is_socmed' ' data_channel_is_tech'\n",
      " ' data_channel_is_world' ' kw_min_min' ' kw_max_min' ' kw_avg_min'\n",
      " ' kw_min_max' ' kw_max_max' ' kw_avg_max' ' kw_min_avg' ' kw_max_avg'\n",
      " ' kw_avg_avg' ' self_reference_min_shares' ' self_reference_max_shares'\n",
      " ' self_reference_avg_sharess' ' weekday_is_monday' ' weekday_is_tuesday'\n",
      " ' weekday_is_wednesday' ' weekday_is_thursday' ' weekday_is_friday'\n",
      " ' weekday_is_saturday' ' weekday_is_sunday' ' is_weekend' ' LDA_00'\n",
      " ' LDA_01' ' LDA_02' ' LDA_03' ' LDA_04' ' global_subjectivity'\n",
      " ' global_sentiment_polarity' ' global_rate_positive_words'\n",
      " ' global_rate_negative_words' ' rate_positive_words'\n",
      " ' rate_negative_words' ' avg_positive_polarity' ' min_positive_polarity'\n",
      " ' max_positive_polarity' ' avg_negative_polarity'\n",
      " ' min_negative_polarity' ' max_negative_polarity' ' title_subjectivity'\n",
      " ' title_sentiment_polarity' ' abs_title_subjectivity'\n",
      " ' abs_title_sentiment_polarity']\n",
      "Features by importance:\n",
      "(775642.808330286, ' kw_max_max')\n",
      "(699249.969654799, ' kw_avg_max')\n",
      "(215741.69253070693, ' kw_min_max')\n",
      "(23549.86418906516, ' self_reference_max_shares')\n",
      "(13092.644610588328, ' self_reference_avg_sharess')\n",
      "(6462.851638301816, ' self_reference_min_shares')\n",
      "(4075.9576080465154, ' kw_max_avg')\n",
      "(2995.805989336117, ' kw_avg_avg')\n",
      "(2931.5023616012504, ' kw_min_avg')\n",
      "(1002.6430690924536, ' kw_max_min')\n",
      "(492.9437594417655, ' n_tokens_content')\n",
      "(481.44967496989597, ' timedelta')\n",
      "(360.2771590697692, ' kw_avg_min')\n",
      "(213.19810562607358, ' kw_min_min')\n",
      "(5.250716185006432, ' num_keywords')\n",
      "(5.159713049564912, ' num_hrefs')\n",
      "(4.399117779915278, ' num_videos')\n",
      "(2.521892092021172, ' num_imgs')\n",
      "(1.928559835290773, ' num_self_hrefs')\n",
      "(1.0137357110638803, ' n_tokens_title')\n",
      "(0.8421343407736693, ' average_token_length')\n",
      "(0.6437953730564997, ' LDA_03')\n",
      "(0.5632265348844405, ' data_channel_is_world')\n",
      "(0.5320450353980862, ' data_channel_is_bus')\n",
      "(0.4280443539663982, ' LDA_04')\n",
      "(0.41197163381207164, ' data_channel_is_tech')\n",
      "(0.3755331232001705, ' LDA_02')\n",
      "(0.2771614878653623, ' LDA_00')\n",
      "(0.21487624605885777, ' data_channel_is_entertainment')\n",
      "(0.16485448466275712, ' data_channel_is_lifestyle')\n",
      "(0.15629945710873147, ' max_positive_polarity')\n",
      "(0.1417671388252032, ' rate_positive_words')\n",
      "(0.12570346636081886, ' LDA_01')\n",
      "(0.12516432142556583, ' n_non_stop_words')\n",
      "(0.1244872763932837, ' min_negative_polarity')\n",
      "(0.11097464511816844, ' title_subjectivity')\n",
      "(0.0982838621379144, ' is_weekend')\n",
      "(0.07040196265258435, ' abs_title_sentiment_polarity')\n",
      "(0.05885475045032827, ' weekday_is_sunday')\n",
      "(0.05603490969344063, ' n_unique_tokens')\n",
      "(0.05201285245558748, ' data_channel_is_socmed')\n",
      "(0.05155702935017025, ' rate_negative_words')\n",
      "(0.045681469757770383, ' weekday_is_wednesday')\n",
      "(0.04052778944068895, ' weekday_is_saturday')\n",
      "(0.03558123283992051, ' title_sentiment_polarity')\n",
      "(0.035194663058920064, ' global_subjectivity')\n",
      "(0.03444757250392297, ' weekday_is_thursday')\n",
      "(0.03437400291935532, ' global_sentiment_polarity')\n",
      "(0.03291105842950158, ' avg_positive_polarity')\n",
      "(0.03230051603065775, ' max_negative_polarity')\n",
      "(0.02676054876264625, ' n_non_stop_unique_tokens')\n",
      "(0.015547329638419302, ' weekday_is_tuesday')\n",
      "(0.014448531777524738, ' abs_title_subjectivity')\n",
      "(0.013960329183172112, ' min_positive_polarity')\n",
      "(0.012191334855001821, ' avg_negative_polarity')\n",
      "(0.011140605965175618, ' weekday_is_monday')\n",
      "(0.00792499221160971, ' global_rate_positive_words')\n",
      "(0.005564813682276312, ' weekday_is_friday')\n",
      "(0.0002870662173877386, ' global_rate_negative_words')\n"
     ]
    },
    {
     "data": {
      "image/png": "[encoded data removed]",
      "text/plain": [
       "<Figure size 432x288 with 1 Axes>"
      ]
     },
     "metadata": {},
     "output_type": "display_data"
    }
   ],
   "source": [
    "from sklearn.decomposition import PCA\n",
    "\n",
    "# labels = ['red' if i== 1 else 'green' for i in df.share_rank]\n",
    "\n",
    "scaleFeatures = True\n",
    "pca = PCA(n_components=5, svd_solver='full')\n",
    "pca.fit(df)\n",
    "\n",
    "T = pca.transform(df)\n",
    "\n",
    "print(df.columns.values)\n",
    "\n",
    "ax = drawVectors(T, pca.components_, df.columns.values, plt, scaleFeatures)\n",
    "T  = pd.DataFrame(T)\n",
    "T.columns = ['component1', 'component2', 'component3', 'component4', 'component5']\n",
    "T.plot.scatter(x='component1', y='component2', marker='o', alpha=0.75, ax=ax)\n",
    "\n",
    "plt.show()"
   ]
  }
 ],
 "metadata": {
  "kernelspec": {
   "display_name": "Python 3",
   "language": "python",
   "name": "python3"
  },
  "language_info": {
   "codemirror_mode": {
    "name": "ipython",
    "version": 3
   },
   "file_extension": ".py",
   "mimetype": "text/x-python",
   "name": "python",
   "nbconvert_exporter": "python",
   "pygments_lexer": "ipython3",
   "version": "3.6.5"
  }
 },
 "nbformat": 4,
 "nbformat_minor": 2
}
